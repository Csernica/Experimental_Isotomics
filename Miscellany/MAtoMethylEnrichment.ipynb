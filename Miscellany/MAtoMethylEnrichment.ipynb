{
 "cells": [
  {
   "cell_type": "code",
   "execution_count": 1,
   "metadata": {},
   "outputs": [],
   "source": [
    "###Calculate the enrichment at methyl carbon given observed 13C enrichment across all sites"
   ]
  },
  {
   "cell_type": "code",
   "execution_count": 2,
   "metadata": {},
   "outputs": [],
   "source": [
    "#imports\n",
    "import sys\n",
    "import os\n",
    "from pathlib import Path\n",
    "import numpy as np\n",
    "cwd = Path().resolve().parent\n",
    "\n",
    "sys.path.insert(1, os.path.join(cwd, 'Isotomics Scripts'))\n",
    "\n",
    "import basicDeltaOperations as op"
   ]
  },
  {
   "cell_type": "code",
   "execution_count": 26,
   "metadata": {},
   "outputs": [
    {
     "name": "stdout",
     "output_type": "stream",
     "text": [
      "41.129635050353386\n"
     ]
    },
    {
     "data": {
      "text/plain": [
       "100.44354196211103"
      ]
     },
     "execution_count": 26,
     "metadata": {},
     "output_type": "execute_result"
    }
   ],
   "source": [
    "#Get concentration of delta 13C for standard\n",
    "stdDelta = -30\n",
    "stdConc = op.deltaToConcentration('13C', stdDelta)\n",
    "std13CConc = stdConc[1] * 5\n",
    "\n",
    "#Get concentration of delta 13C for sample\n",
    "finalDelta = -11\n",
    "finalConc = op.deltaToConcentration('13C', finalDelta)\n",
    "final13CConc = finalConc[1] * 5\n",
    "\n",
    "#Find the concentration difference between the two, and assume it is entirely due to methyl carbon\n",
    "concDiff13CMethyl = final13CConc - std13CConc\n",
    "\n",
    "#Add this concentration difference to find the methyl carbon concentration of the sample\n",
    "estMetDelta = -53.9\n",
    "concStd = op.deltaToConcentration('13C', estMetDelta)\n",
    "conc13CStd = concStd[1]\n",
    "conc13CSmp = conc13CStd + concDiff13CMethyl\n",
    "\n",
    "#Calculate the ratio between the twe\n",
    "ratSmpMethyl = conc13CSmp / (1- conc13CSmp)\n",
    "deltaSmpMethyl = op.ratioToDelta('13C', ratSmpMethyl)\n",
    "print(deltaSmpMethyl)\n",
    "\n",
    "#Get relative delta at methyl position\n",
    "op.compareRelDelta('13C', estMetDelta, deltaSmpMethyl)\n",
    "\n",
    "#Check errors manually; changing either stdDelta or stdDelta (both errors of 0.1) gives a range of ~0.53. Changing the estMetDelta (the delta of the 13C position, error of 1 per mil) has error of ~0.1. Propagating by quadrature gives total error bar of 0.8. "
   ]
  },
  {
   "cell_type": "code",
   "execution_count": null,
   "metadata": {},
   "outputs": [],
   "source": []
  }
 ],
 "metadata": {
  "kernelspec": {
   "display_name": "Python 3",
   "language": "python",
   "name": "python3"
  },
  "language_info": {
   "codemirror_mode": {
    "name": "ipython",
    "version": 3
   },
   "file_extension": ".py",
   "mimetype": "text/x-python",
   "name": "python",
   "nbconvert_exporter": "python",
   "pygments_lexer": "ipython3",
   "version": "3.7.11"
  },
  "orig_nbformat": 4
 },
 "nbformat": 4,
 "nbformat_minor": 2
}
